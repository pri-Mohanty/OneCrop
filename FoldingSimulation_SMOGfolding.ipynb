{
  "nbformat": 4,
  "nbformat_minor": 0,
  "metadata": {
    "colab": {
      "provenance": [],
      "include_colab_link": true
    },
    "kernelspec": {
      "name": "python3",
      "display_name": "Python 3"
    }
  },
  "cells": [
    {
      "cell_type": "markdown",
      "metadata": {
        "id": "view-in-github",
        "colab_type": "text"
      },
      "source": [
        "<a href=\"https://colab.research.google.com/github/pri-Mohanty/OneCrop/blob/main/FoldingSimulation_SMOGfolding.ipynb\" target=\"_parent\"><img src=\"https://colab.research.google.com/assets/colab-badge.svg\" alt=\"Open In Colab\"/></a>"
      ]
    },
    {
      "cell_type": "markdown",
      "metadata": {
        "id": "WutUwTFo2e4j"
      },
      "source": [
        "#Folding Simulations using Structure-Based Models"
      ]
    },
    {
      "cell_type": "markdown",
      "metadata": {
        "id": "FQMdCpigVK-X"
      },
      "source": [
        "###Theoretical aspects\n",
        "\n",
        "While conventional molecular dynamics (MD) are very useful for predicting the dynamic behavior of biomolecules or deepening our understanding of experimental observations, their high computational cost introduces **limitations to the time scales of the motions that can be explored** (typically in the order of **ns – μs**). In contrast, the biological processes of greater complexity such as **protein folding, conformational changes and biomolecular interactions**, are in the order of **ms – s**. These phenomena cannot be studied through traditional MD strategies, thus requiring the application of enhanced sampling techniques in order to reach biologically relevant time scales.\n",
        "\n",
        "In this regard, **the energy landscape theory of protein folding** and the **principle of minimum frustration** have provided the basis for the definition of a simplified potential energy function that allows us to explore these processes. This framework established that **the robustness of protein folding during evolution is the result of the selection of sequences that accumulate interactions that mutually support the native state of a protein**, while avoiding the accumulation of conflicting (frustrating) interactions for the stability of this folded state.\n",
        "\n",
        "Such interactions are readily **available in the native state resolved by X-ray crystallography or NMR** for a given protein and can be extracted using a distance-based criteria (**Fig. 1**). In a scenario where all the interactions present in the native state are attractive, the **folding energy landscape is funneled**. These theoretical concepts constitute the central argument for the generation and application of **Structure-Based Models** (SBM) in MD simulations."
      ]
    },
    {
      "cell_type": "markdown",
      "metadata": {
        "id": "mD5dj8UMSqEC"
      },
      "source": [
        "<figure>\n",
        "<center>\n",
        "<img src='https://raw.githubusercontent.com/pb3lab/ibm3202/master/images/smog_01.png'/>\n",
        "<figcaption>FIGURE 1. Using a distance-based criteria to determine native contacts based on a proteins structure, here the ribosomal protein S6. The left panel shows the proximity of the nearest atomic contact for each residue pair up to a maximum of 1.5 nm, whereas the right panel shows the resulting coarse-grained native contact map upon filtering by a distance cutoff of 0.6 nm and a minimal sequence separation of 3 residues between interacting residues <br> Noel JK & Onuchic JN (2012) <i> Computational Modeling of Biological Systems, 31-54</i></figcaption></center>\n",
        "</figure>"
      ]
    },
    {
      "cell_type": "markdown",
      "metadata": {
        "id": "A8w7VY84UDOc"
      },
      "source": [
        "**SBM models explicitly include a native bias in the potential energy function**, by considering all contacts between spatially close residues **in the native structure** of a protein as **attractive interactions**, while all non-native interactions (i.e. those that are not obtained through the analysis of the native structure) are treated as repulsive. This condition is consistent with the notion of a sequence of a protein without highly frustrated interactions (i.e. a funneled folding landscape). In this context, both the folding mechanism and the energy barriers mainly result from the geometrical constraints imposed by the connectivity of the polypeptide chain and its packaging in three-dimensional space, or **topology**.\n",
        "\n",
        "Moreover, SBM models also reduce the complexity of the biomolecular system by using a coarse-grained approximation, in which each residue is replaced by a bead centered at the alpha carbon coordinates. However, newer SBM models are also able to employ **all-atom representations**."
      ]
    },
    {
      "cell_type": "markdown",
      "metadata": {
        "id": "4CMeTYlZVo6P"
      },
      "source": [
        "The potential energy function that defines the bonded and non-bonded interactions of the SBM models includes the information regarding the topology of the native structure as follows:\n",
        "\n",
        "<figure>\n",
        "<center>\n",
        "<img src='https://raw.githubusercontent.com/pb3lab/ibm3202/master/images/smog_02.png' />\n",
        "</center>\n",
        "</figure>\n",
        "\n",
        "Where $\\varepsilon_{r} = 100\\varepsilon$, $\\varepsilon_{\\theta} = 20 \\varepsilon$, $\\varepsilon_{D} = \\varepsilon$, $\\varepsilon_{C} = \\varepsilon_{NC} = \\varepsilon = k_{B}T$, which is the product between the Boltzmann constant and the temperature in reduced units; $r_{0}$, $\\theta_{0}$ y $F_{D}(\\phi_{0})$ are the bonds, angles and dihedrals of the native structure and are maintained by harmonic constraints; $\\sigma_{ij}$ is the distance between the residues i and j in the native state (calculated from the native structure) and $\\sigma_{NC}$ = 4 Å.\n",
        "\n",
        "While native contacts are treated as attractive interactions through a 12-10 Lennard-Jones (LJ) potential, non-native contacts are treated as repulsive.\n",
        "In this way, each time the temperature of the simulation is lower than the **folding temperature**, $T_{F}$, the system will tend to the minimum energy, in this case defined as the structure of the native state."
      ]
    },
    {
      "cell_type": "markdown",
      "metadata": {
        "id": "eiopP7EdVjqt"
      },
      "source": [
        "##Experimental Overview"
      ]
    },
    {
      "cell_type": "markdown",
      "metadata": {
        "id": "xkpCp93eQsUS"
      },
      "source": [
        "Here, we will simulate the folding of a small SH3 protein domain from the PDB structure 1FMK using a coarse-grained SBM and GROMACS.\n",
        "\n",
        "For this, we will first generate a coarse-grained SBM model using **SMOG2** and then we will prepare and run the simulation files in a **SBM-enhanced version of GROMACS**. Finally, we will analyze the results in terms of the structural and energetical fluctuations of the simulated system, with the hopes of determining its free energy landscape using the **Weighted Histogram Analysis Method (WHAM)**."
      ]
    },
    {
      "cell_type": "markdown",
      "metadata": {
        "id": "buTRd47h4QfK"
      },
      "source": [
        "#Part 0. Downloading and Installing the required software"
      ]
    },
    {
      "cell_type": "markdown",
      "metadata": {
        "id": "KSAoowL_4XIV"
      },
      "source": [
        "Before we start, **remember to start the hosted runtime** in Google Colab.\n",
        "\n",
        "Then, we must install several pieces of software to perform this tutorial. Namely:\n",
        "- **biopython** for manipulation of the PDB files\n",
        "- **py3Dmol** for visualization of the protein structure.\n",
        "- **cpanm** for installation of several Perl utilities required to run SMOG2\n",
        "- **SMOG2** for generating our structure-based models\n",
        "- **SBM-enhanced GROMACS** for preparing our MD system and performing our MD simulations.\n",
        "\n",
        "For visualizing our MD trajectories, we will employ a web version of **NGLview**. This is due to the inability of Google Colab to handle a required python package for loading NGLview directly onto Google Colab. Hopefully this will change in the near future.\n",
        "\n",
        "1. First, we will start by downloading and setting up SMOG2 on Google Colab, which requires the installation of several Perl utilities using cpanminus\n",
        "\n",
        "**NOTE**: This installation takes ~10 min. If possible, perform this installation before the tutorial session starts."
      ]
    },
    {
      "cell_type": "code",
      "metadata": {
        "id": "Xe4I0mjh8X_h"
      },
      "source": [
        "#Downloading and extracting SMOG2 from the SMOG-server\n",
        "!wget https://smog-server.org/smog2/code/smog-2.4.2.tgz\n",
        "!tar zxf smog-2.4.2.tgz"
      ],
      "execution_count": null,
      "outputs": []
    },
    {
      "cell_type": "code",
      "metadata": {
        "id": "8zf7oP-wC2Um"
      },
      "source": [
        "#Automatic configuration of cpan for Perl\n",
        "!echo y | cpan\n",
        "#Installing cpanm for easy installation of Perl utilities\n",
        "!cpan App::cpanminus\n",
        "#Installing all required Perl utilities for SMOG2\n",
        "!cpanm String::Util #--local-lib $nb_path\n",
        "!cpanm XML::Simple #--local-lib $nb_path\n",
        "!cpanm Exporter #--local-lib $nb_path\n",
        "!cpanm PDL #--local-lib $nb_path\n",
        "!cpanm XML::Validator::Schema #--local-lib $nb_path\n",
        "# New Perl module added: requirement for smog v2.4.2\n",
        "!cpanm XML::LibXML #--local-lib $nb_path"
      ],
      "execution_count": null,
      "outputs": []
    },
    {
      "cell_type": "code",
      "metadata": {
        "id": "EJuuoeQP4nsB"
      },
      "source": [
        "#Download a preconfigured SMOG2 file and test the installation\n",
        "%%bash\n",
        "rm -r /content/smog-2.4.2/configure.smog2\n",
        "wget -P /content/smog-2.4.2 https://github.com/pb3lab/ibm3202/raw/master/software/configure.smog2\n",
        "source /content/smog-2.4.2/configure.smog2\n",
        "smog2 -h"
      ],
      "execution_count": null,
      "outputs": []
    },
    {
      "cell_type": "markdown",
      "metadata": {
        "id": "qcf5VLtv3PKY"
      },
      "source": [
        "2. Then, we will set up our SBM-enhanced GROMACS on Google Colab, based on a previously compiled and installed GROMACS."
      ]
    },
    {
      "cell_type": "code",
      "metadata": {
        "id": "TDx5pCg_rKzK"
      },
      "source": [
        "# Download and unzip the compressed folder of SBM-enhanced GROMACS\n",
        "!wget https://raw.githubusercontent.com/pb3lab/ibm3202/master/software/gromacs_sbm.tar.gz\n",
        "!tar xzf gromacs_sbm.tar.gz"
      ],
      "execution_count": null,
      "outputs": []
    },
    {
      "cell_type": "markdown",
      "metadata": {
        "id": "iwqaTlTD8oIT"
      },
      "source": [
        "3. Lastly, we will install biopython and py3Dmol"
      ]
    },
    {
      "cell_type": "code",
      "metadata": {
        "id": "FhxhK-3GXzL0"
      },
      "source": [
        "!pip install biopython py3dmol"
      ],
      "execution_count": null,
      "outputs": []
    },
    {
      "cell_type": "markdown",
      "metadata": {
        "id": "5j24YCyD7Zlf"
      },
      "source": [
        "Once these software installation processes are completed, we are ready to perform our experiments"
      ]
    },
    {
      "cell_type": "markdown",
      "metadata": {
        "id": "0W5ieq38OB_M"
      },
      "source": [
        "# Part I – Generate a coarse-grained SBM model using SMOG2"
      ]
    },
    {
      "cell_type": "markdown",
      "metadata": {
        "id": "1zUmEAtiQRi-"
      },
      "source": [
        "For this step, we need an initial set of atomic coordinates, usually coming from a protein structure downloaded from the Protein Data Bank. Once downloaded, these PDB files must be cleaned from water molecules (in the case of crystal structures) or a single model must be selected from the many solutions for a single set of chemical shifts (in the case of NMR structures). Lastly, these coordinates are processed using SMOG2 to generate our coarse-grained SBM, in which each residue is represented by a bead centered at the coordinates of its corresponding C${\\alpha}$ atom (thus termed **CA model**).\n",
        "\n",
        "1. We will first start by creating and accessing a folder for preparing our system (remember our previous tutorial?)"
      ]
    },
    {
      "cell_type": "code",
      "metadata": {
        "id": "26tuPEcHXGOx"
      },
      "source": [
        "#Let's make a folder first. We need to import the os and path library\n",
        "import os\n",
        "from pathlib import Path\n",
        "\n",
        "#Then, we define the path of the folder we want to create.\n",
        "#Notice that the HOME folder for a hosted runtime in colab is /content/\n",
        "smogpath = Path(\"/content/prepare_1FMK/\")\n",
        "\n",
        "#Now, we create the folder using the os.mkdir() command\n",
        "#The if conditional is just to check whether the folder already exists\n",
        "#In which case, python returns an error\n",
        "if os.path.exists(smogpath):\n",
        "  print(\"path already exists\")\n",
        "if not os.path.exists(smogpath):\n",
        "  os.mkdir(smogpath)\n",
        "  print(\"path was succesfully created\")"
      ],
      "execution_count": null,
      "outputs": []
    },
    {
      "cell_type": "code",
      "metadata": {
        "id": "6BFqksfnX5fq"
      },
      "source": [
        "#Changing directory using python\n",
        "os.chdir(smogpath)"
      ],
      "execution_count": null,
      "outputs": []
    },
    {
      "cell_type": "markdown",
      "metadata": {
        "id": "he_1Mdvj_lTX"
      },
      "source": [
        "2. Then, we will download the solved structure of the full-length human tyrosine kinase (PDB ID 1FMK). This solved proteins structure contains several domains, but we are only interested in its SH3 domain. Thus, we will again use `Dice` from biopython to not only remove water molecules and ligands, but also to select the residues that correspond to the SH3 domain.\n",
        "\n",
        "**QUESTION❓**: By looking at the scripts below, which residues comprise the SH3 domain of human tyrosine kinase?"
      ]
    },
    {
      "cell_type": "code",
      "metadata": {
        "id": "YZVScwI8X--p"
      },
      "source": [
        "#Importing your PDB file using biopython\n",
        "import os\n",
        "from Bio.PDB import *\n",
        "pdbid = ['1fmk']\n",
        "pdbl = PDBList()\n",
        "for s in pdbid:\n",
        "  pdbl.retrieve_pdb_file(s, pdir='.', file_format =\"pdb\", overwrite=True)\n",
        "  os.rename(\"pdb\"+s+\".ent\", s+\".pdb\")"
      ],
      "execution_count": null,
      "outputs": []
    },
    {
      "cell_type": "code",
      "metadata": {
        "id": "xu99dIgvYczH"
      },
      "source": [
        "#Here we set up a parser for our PDB\n",
        "parser = PDBParser()\n",
        "io=PDBIO()\n",
        "structure = parser.get_structure('X', '1fmk.pdb')\n",
        "#And here we remove hydrogens, waters and ligands using Dice\n",
        "io.set_structure(structure)\n",
        "sel = Dice.ChainSelector('A', 82, 145)\n",
        "io.save(\"1fmk_clean.txt\", sel)\n",
        "print(\"Your PDB was processed. Only the protein heavy atoms have been kept!\")\n",
        "print(\"It has been saved as a text file for editing on Google Colab\")\n",
        "print(\"Remember to edit it before using SMOG2\")"
      ],
      "execution_count": null,
      "outputs": []
    },
    {
      "cell_type": "markdown",
      "metadata": {
        "id": "7yjW7dXbBDse"
      },
      "source": [
        "3. Let's examine the structure in py3Dmol"
      ]
    },
    {
      "cell_type": "code",
      "metadata": {
        "id": "WSW-8f3QBTEJ"
      },
      "source": [
        "import py3Dmol\n",
        "#First we assign the py3Dmol.view as view\n",
        "view=py3Dmol.view()\n",
        "#The following lines are used to add the addModel class\n",
        "#to read the PDB files\n",
        "view.addModel(open('1fmk_clean.txt', 'r').read(),'pdb')\n",
        "#Here we set the background color as white\n",
        "view.setBackgroundColor('white')\n",
        "#Here we set the visualization style and color\n",
        "view.setStyle({'chain':'A'},{'cartoon': {'color':'spectrum'}})\n",
        "#Here we center the molecule for its visualization\n",
        "view.zoomTo()\n",
        "#And we finally visualize the structures using the command below\n",
        "view.show()"
      ],
      "execution_count": null,
      "outputs": []
    },
    {
      "cell_type": "markdown",
      "metadata": {
        "id": "uoePZR6DBuOr"
      },
      "source": [
        "4. As you noticed in the previous script, we generated the final PDB as a **.txt text file**. This is because these structures require some editing on Google Colab before processing by SMOG2:\n",
        "\n",
        "- If a **C-terminal end residue** is present, we must rename it by adding a **`T`** character right after the residue name, for all atoms comprised by such C-terminal residue. This is required for SMOG2 to recognize C-terminal ends\n",
        "  - Example:\n",
        "```\n",
        "# Before editing\n",
        "ATOM    504  N   ALA A 145...\n",
        "# After editing\n",
        "ATOM    504  N   ALATA 145...\n",
        "```\n",
        "- **Eliminate `TER`** lines from the final PDB, and **only use it as separators between chains in oligomeric proteins**.\n",
        "  - Example:\n",
        "```\n",
        "# Before editing\n",
        "ATOM    508  CB  ALA A 145...\n",
        "TER     509      ALA A 145\n",
        "END\n",
        "# After editing\n",
        "ATOM    508  CB  ALA A 145...\n",
        "END\n",
        "```\n",
        "\n",
        "Fix your PDB file accordingly.\n",
        "\n",
        "**QUESTION❓**: Do we need to edit our PDB file for assigning a C-terminal end residue in our case? Why? Why not?"
      ]
    },
    {
      "cell_type": "markdown",
      "metadata": {
        "id": "o5yDhPZGEKan"
      },
      "source": [
        "5. Once this is done, we can process our file in SMOG2 as indicated below:"
      ]
    },
    {
      "cell_type": "code",
      "metadata": {
        "id": "ZEqE5jNwJq2U"
      },
      "source": [
        "%%bash\n",
        "source /content/smog-2.4.2/configure.smog2\n",
        "smog2 -i 1fmk_clean.txt -CA -dname SH3_smog"
      ],
      "execution_count": null,
      "outputs": []
    },
    {
      "cell_type": "markdown",
      "metadata": {
        "id": "dvVEpbIXE0da"
      },
      "source": [
        "6. Examine the generated SBM files. The most relevant files are described in detail below (and you can read this while you run your simulations)\n",
        "\n",
        "- **.gro coordinate file** – File compatible with GROMACS that contains the total number of atoms and the coordinates of each atom in {x, y, z}\n",
        "<figure>\n",
        "<center>\n",
        "<img src='https://raw.githubusercontent.com/pb3lab/ibm3202/master/images/smog_03.png' />\n",
        "</center>\n",
        "</figure>\n",
        "\n",
        "  (**QUESTION❓:**is there anything particular with this .gro file?)\n",
        "\n",
        "\n",
        "- **.top topology file** – Contains the topology, or bonded & non-bonded interactions, of the system. All of these parameters are extracted from the native structure defined in the PDB file\n",
        "<figure>\n",
        "<center>\n",
        "<img src='https://raw.githubusercontent.com/pb3lab/ibm3202/master/images/smog_04.png' />\n",
        "</center>\n",
        "</figure>\n",
        "\n",
        "  - The atomic composition of the system is described in the `[atoms]` section\n",
        "  - Covalent bonds are listed in the `[bonds]` section\n",
        "  - Angles between 3 atoms connected by covalent bonds are listed in the `[angles]` section\n",
        "  - Dihedral angles between 4 atoms connected by covalent bonds (and also of planar configurations for aromatic side chains) are listed in the `[dihedrals]` section.\n",
        "  - Non-bonded native contacts are indicated in the `[pairs]` section.\n",
        "  - Non-native non-bonded interactions are treated as repulsive by listing the native contacts in the `[exclusions]` section; in other words, what is not listed in this section is non-native.\n",
        "\n",
        "- **.ndx index file** – Lists groups of atoms that constitute the various chains registered in the .pdb file (for example, two or more chains of an oligomer)\n",
        "\n",
        "- **.contacts.CG contact map file** – Archive of 4 columns, in which columns 2 and 4 contain the numbers of atoms in contact in the native state, and columns 1 and 3 correspond to the identifiers of the groups in the .ndx file (i.e. the chain to which each atom belongs to)."
      ]
    },
    {
      "cell_type": "markdown",
      "metadata": {
        "id": "ePCKpd5qEWEx"
      },
      "source": [
        "7. Let's visualize our final structure!"
      ]
    },
    {
      "cell_type": "code",
      "metadata": {
        "id": "_EHSYDWCESlU"
      },
      "source": [
        "import py3Dmol\n",
        "#First we assign the py3Dmol.view as view\n",
        "view=py3Dmol.view()\n",
        "#The following lines are used to add the addModel class\n",
        "#to read the PDB files\n",
        "view.addModel(open('SH3_smog.gro', 'r').read(),'gro')\n",
        "#Here we set the background color as white\n",
        "view.setBackgroundColor('white')\n",
        "#Here we set the visualization style and color\n",
        "view.setStyle({'sphere':{'colorscheme':{'prop':'serial','gradient':'sinebow','min':1,'max':64}}})\n",
        "#Here we center the molecule for its visualization\n",
        "view.zoomTo()\n",
        "#And we finally visualize the structures using the command below\n",
        "view.show()"
      ],
      "execution_count": null,
      "outputs": []
    },
    {
      "cell_type": "markdown",
      "metadata": {
        "id": "sgienIIWLR_b"
      },
      "source": [
        "As you can see here, our structure is now **coarse-grained**, with each residue represented by a single bead centered at the C${\\alpha}$ of the starting all-atom PDB structure."
      ]
    },
    {
      "cell_type": "markdown",
      "metadata": {
        "id": "k4yl7Nj7LlYl"
      },
      "source": [
        "#Part II - Prepare and run the SBM folding simulations in GROMACS\n",
        "\n",
        "Now, we are ready to perform our simulations using these SBM models.\n",
        "\n",
        "1. We will start by creating a new folder for preparing and running our MD simulations, in which we will copy our SBM coordinate and topology file."
      ]
    },
    {
      "cell_type": "code",
      "metadata": {
        "id": "XxvgMU5AKMLx"
      },
      "source": [
        "#Defining a new folder for the MD simulations\n",
        "mdpath = Path(\"/content/md_1FMK/\")\n",
        "\n",
        "#Now, we create the folder using the os.mkdir() command\n",
        "#The if conditional is just to check whether the folder already exists\n",
        "#In which case, python returns an error\n",
        "if os.path.exists(mdpath):\n",
        "  print(\"path already exists\")\n",
        "if not os.path.exists(mdpath):\n",
        "  os.mkdir(mdpath)\n",
        "  print(\"path was succesfully created\")"
      ],
      "execution_count": null,
      "outputs": []
    },
    {
      "cell_type": "code",
      "metadata": {
        "id": "XJWHpPM8gjF5"
      },
      "source": [
        "#Changing to our newly created directory and copying the .gro and .top files\n",
        "os.chdir(mdpath)\n",
        "from shutil import copyfile\n",
        "copyfile(smogpath/'SH3_smog.gro', mdpath/'SH3_smog.gro')\n",
        "copyfile(smogpath/'SH3_smog.top', mdpath/'SH3_smog.top')"
      ],
      "execution_count": null,
      "outputs": []
    },
    {
      "cell_type": "markdown",
      "metadata": {
        "id": "9gDIqH5cMe8V"
      },
      "source": [
        "2. For GROMACS, we will also need a **MD instruction file**, as in our previous tutorial. We will download such file from GitHub (**mdrun_CA_v5.mdp**), which contains the parameters of the MD simulations, such as the integrator of the position and velocity of the atoms for each simulation time; the integration time step; the total simulation time; the frequency of writing the output files; the threshold distances for the treatment of the native interactions; the simulation temperature; etc.\n",
        "\n",
        "  **WARNING⚠️:** It is strongly recommended that you read the comments and instructions contained in this file, as it is substantially different from the instructions used in a conventional MD.\n",
        "\n",
        "  **QUESTION❓:** What temperature are we using to run our simulations?"
      ]
    },
    {
      "cell_type": "code",
      "metadata": {
        "id": "57089jXZnNzt"
      },
      "source": [
        "!wget https://github.com/pb3lab/ibm3202/raw/master/files/mdrun_CA_v5.mdp"
      ],
      "execution_count": null,
      "outputs": []
    },
    {
      "cell_type": "markdown",
      "metadata": {
        "id": "yKJLGKkrNbyY"
      },
      "source": [
        "The most important parameters in this .mdp file are the **temperature of the simulation**; the **temperature for the initial velocities**; the distance cut-off for evaluating the interactions; and the call for **user-defined tables** for our non-bonded interactions (which is explained below).\n",
        "\n",
        "3. Internally, GROMACS has the ability to employ Lennard-Jones (LJ) potentials of type 12-6, whereas the potential required for native contacts in SBM simulations using CA models correspond to LJ 12-10. Thus, we will download a Perl script to generate a **user-defined table** of LJ 12-10 tabulated potentials. The result of running this script is a **.xvg file** that contains the tabulated potential."
      ]
    },
    {
      "cell_type": "code",
      "metadata": {
        "id": "Ldx1gTAnAYUT"
      },
      "source": [
        "%%bash\n",
        "wget https://github.com/pb3lab/ibm3202/raw/master/files/maketable4.pl\n",
        "perl maketable4.pl > table.xvg"
      ],
      "execution_count": null,
      "outputs": []
    },
    {
      "cell_type": "markdown",
      "metadata": {
        "id": "gwJrh-xhOf3S"
      },
      "source": [
        "4. Now that we have all of the files that we need, we will first make a folder named after our simulation temperature, in which we will run our simulations."
      ]
    },
    {
      "cell_type": "code",
      "metadata": {
        "id": "cDWKHImnrUHj"
      },
      "source": [
        "#Creating a folder for running a simulation at a given temperature\n",
        "temppath = Path(\"152\")\n",
        "\n",
        "#Now, we create the folder using the os.mkdir() command\n",
        "#The if conditional is just to check whether the folder already exists\n",
        "#In which case, python returns an error\n",
        "if os.path.exists(temppath):\n",
        "  print(\"path already exists\")\n",
        "if not os.path.exists(temppath):\n",
        "  os.mkdir(temppath)\n",
        "  print(\"path was succesfully created\")"
      ],
      "execution_count": null,
      "outputs": []
    },
    {
      "cell_type": "markdown",
      "metadata": {
        "id": "8bBxLKxgPHVl"
      },
      "source": [
        "5. Lastly, we will prepare our **.tpr portable binary run input file for GROMACS** in this folder and run our simulation! Please note how we instruct GROMACS to use our custom table of LJ 12-10 tabulated potentials.\n",
        "\n",
        "This simulation takes ~30 min. **Reduce the number of steps according to your needs for the purpose of these tutorial**"
      ]
    },
    {
      "cell_type": "code",
      "metadata": {
        "id": "NWa8O52tsDo_"
      },
      "source": [
        "#Changing to our new folder\n",
        "os.chdir(temppath)"
      ],
      "execution_count": null,
      "outputs": []
    },
    {
      "cell_type": "code",
      "metadata": {
        "id": "hGI_2ccYtRge"
      },
      "source": [
        "#Preparing our binary run input file\n",
        "%%bash\n",
        "source /content/gromacs_sbm/bin/GMXRC\n",
        "gmx grompp -f ../mdrun_CA_v5.mdp -c ../SH3_smog.gro -p ../SH3_smog.top -o run.tpr"
      ],
      "execution_count": null,
      "outputs": []
    },
    {
      "cell_type": "code",
      "metadata": {
        "id": "vT7S73eBAIdD"
      },
      "source": [
        "#Running our simulation\n",
        "%%time\n",
        "%%bash\n",
        "source /content/gromacs_sbm/bin/GMXRC\n",
        "gmx mdrun -s run.tpr -table ../table.xvg -tablep ../table.xvg -nt 2 -noddcheck"
      ],
      "execution_count": null,
      "outputs": []
    },
    {
      "cell_type": "markdown",
      "metadata": {
        "id": "spiZDEy-P0r0"
      },
      "source": [
        "Once our simulation is done, we are ready to analyze it!\n",
        "\n",
        "**But what about the temperature??** Something to keep in mind is that this temperature does not represent typical physical units, but so-called reduced (i.e. Boltzmann weighted) units, were $T^* = \\varepsilon = k_BT$. This is required for further energetic analysis of the simulations. To better understand these reduced units, please refer to the SMOG-server FAQ."
      ]
    },
    {
      "cell_type": "markdown",
      "metadata": {
        "id": "P8zrXL0MP6Mj"
      },
      "source": [
        "#Part III – Analyzing our folding simulations"
      ]
    },
    {
      "cell_type": "markdown",
      "metadata": {
        "id": "7peG7qsWQZQE"
      },
      "source": [
        "Once our simulations are done, we can analyze how the protein structure and potential energy fluctuates along the trajectory."
      ]
    },
    {
      "cell_type": "markdown",
      "metadata": {
        "id": "YycZWSWOQg_i"
      },
      "source": [
        "1. First, we will use the GROMACS utilities to obtain the changes in RMSD and potential energy along the trajectory. We will extract the RMSD using the `rmsd` module and the potential energy using the `energy` module.\n",
        "  \n",
        "  Please note how we are giving the appropriate commands to GROMACS to obtain these results!"
      ]
    },
    {
      "cell_type": "code",
      "metadata": {
        "id": "1H13-hMAe2qx"
      },
      "source": [
        "%%bash\n",
        "source /content/gromacs_sbm/bin/GMXRC\n",
        "#Commands for RMSD\n",
        "echo \"0\" > options\n",
        "echo \" \" >> options\n",
        "echo \"0\" >> options\n",
        "echo \" \" >> options\n",
        "#RMSD calculation\n",
        "gmx rms -s ../SH3_smog.gro -f traj_comp.xtc -xvg none < options\n",
        "#Commands for potential energy\n",
        "echo \"Potential\" > options\n",
        "echo \" \" >> options\n",
        "#Potential energy extraction\n",
        "gmx energy -f ener.edr -xvg none < options"
      ],
      "execution_count": null,
      "outputs": []
    },
    {
      "cell_type": "markdown",
      "metadata": {
        "id": "Qcr9xS1bQ0tX"
      },
      "source": [
        "2. A better metric for looking at the fluctuations of the structure of our protein during the simulation is through the calculation of the changes in native contacts along the trajectory. For this, we will use the `g_kuh` module that is exclusively available in the SBM-enhanced version of GROMACS.\n",
        "\n",
        "  For `g_kuh` to run, we first need an **.ndx index file** that contains a title and is followed by the list of atom pairs in contact in the native state, as shown below:\n",
        "```\n",
        "[ contacts ]\n",
        "atom_i atom_j\n",
        "...\n",
        "```\n",
        "  We can generate this file by printing the columns 2 and 4 of the **.contacts.CG file** generated by SMOG2:"
      ]
    },
    {
      "cell_type": "code",
      "metadata": {
        "id": "3QO99Fv7YZwC"
      },
      "source": [
        "f = open(mdpath/\"contacts.ndx\", \"a\")\n",
        "f.write(\"[ contacts ]\\n\")\n",
        "with open(smogpath/\"SH3_smog.contacts.CG\") as infile:\n",
        "  for line in infile:\n",
        "    if line.strip():\n",
        "      cols = line.split()\n",
        "      f.write(cols[1] + \"\\t\" + cols[3] + \"\\n\")\n",
        "f.close()"
      ],
      "execution_count": null,
      "outputs": []
    },
    {
      "cell_type": "markdown",
      "metadata": {
        "id": "5GswxNzsStcq"
      },
      "source": [
        "3. Then, we can run `g_kuh` to calculate the number of native contacts for each coordinate saved during the MD simulation in the **.xtc compressed trajectory file**.\n",
        "\n",
        "  In this case, the `-s` option indicates our initial protein structure from which the native contact distances will be calculated, the `-n` option indicates our contact file, the `-noabscut` and `-cut` options indicate that `-cut` is taken to be the maximum relative deviation from the native distance for a formed contact (here, 20% longer than the native distance) and `-noshortcut` specifies that only deviations to larger distances than the native value are considered"
      ]
    },
    {
      "cell_type": "code",
      "metadata": {
        "id": "FXgsMkTjU1Ed"
      },
      "source": [
        "%%bash\n",
        "source /content/gromacs_sbm/bin/GMXRC\n",
        "g_kuh -s ../SH3_smog.gro -f traj_comp.xtc -n ../contacts.ndx -noabscut -noshortcut -cut 0.2"
      ],
      "execution_count": null,
      "outputs": []
    },
    {
      "cell_type": "markdown",
      "metadata": {
        "id": "1lT2bjDHT45o"
      },
      "source": [
        "4. Let's plot our results and see what happened during our simulation! We will plot first the change in native contacts (Q), and then the change in potential energy. You can check the change in RMSD yourself"
      ]
    },
    {
      "cell_type": "code",
      "metadata": {
        "id": "jKEv1o1tdAU2"
      },
      "source": [
        "!paste rmsd.xvg qvals.out > data.txt\n",
        "import matplotlib.pyplot as plt\n",
        "import numpy as np\n",
        "\n",
        "data = np.loadtxt('data.txt')\n",
        "\n",
        "plt.title('Structural fluctuations of the system')\n",
        "plt.xlabel('Time (tau)')\n",
        "plt.ylabel('Q')\n",
        "plt.plot(data[:,0], data[:,2], linestyle='solid', linewidth='2', color='red')\n",
        "plt.show()"
      ],
      "execution_count": null,
      "outputs": []
    },
    {
      "cell_type": "code",
      "metadata": {
        "id": "T-EImPmpthBJ"
      },
      "source": [
        "data = np.loadtxt('energy.xvg')\n",
        "\n",
        "plt.title('Potential energy fluctuations of the system')\n",
        "plt.xlabel('Time (tau)')\n",
        "plt.ylabel('Energy')\n",
        "plt.plot(data[:,0], data[:,1], linestyle='solid', linewidth='2', color='red')\n",
        "plt.show()"
      ],
      "execution_count": null,
      "outputs": []
    },
    {
      "cell_type": "markdown",
      "metadata": {
        "id": "nEXgWDDogaNR"
      },
      "source": [
        "If the simulations were correctly set at the folding temperature for this protein, you should observe **both the native** (high Q, low energy) **and unfolded** (low Q, high energy) **states** of the protein in equivalent ratios, as well as several transitions between these states"
      ]
    },
    {
      "cell_type": "markdown",
      "metadata": {
        "id": "vBeCaXtJcnmC"
      },
      "source": [
        "5. To finalize, we will visualize our simulation. For this, we will use the `trjconv` module to extract only the protein from our system and convert our trajectory into a PDB file and then  download this new PDB file and load it onto [**NGLviewer**](http://nglviewer.org/ngl/) as a **trajectory** PDB file."
      ]
    },
    {
      "cell_type": "code",
      "metadata": {
        "id": "rRWX7XguczmS"
      },
      "source": [
        "%%bash\n",
        "source /content/gromacs_sbm/bin/GMXRC\n",
        "#This is a trick to provide interactive options to gmx\n",
        "echo \"Protein\" > options\n",
        "echo \"Protein\" >> options\n",
        "echo \" \"\n",
        "gmx trjconv -s run.tpr -f traj_comp.xtc -o traj.pdb < options"
      ],
      "execution_count": null,
      "outputs": []
    },
    {
      "cell_type": "code",
      "metadata": {
        "id": "8aEByMKTN1gw"
      },
      "source": [
        "#Downloading the trajectory PDB file\n",
        "from google.colab import files\n",
        "files.download(\"/content/md_dualAKE/traj.pdb\")"
      ],
      "execution_count": null,
      "outputs": []
    },
    {
      "cell_type": "markdown",
      "metadata": {
        "id": "ACJSETwdymVx"
      },
      "source": [
        "**And this is the end of the ninth tutorial!**\n",
        "\n",
        "If you want to download your results, you can perform the following commands:"
      ]
    },
    {
      "cell_type": "code",
      "metadata": {
        "id": "DPQP2YWD48xx"
      },
      "source": [
        "os.chdir(\"/content/\")\n",
        "!zip -r smogmd.zip $mdpath\n",
        "!zip -r smog1FMK.zip $smogpath\n",
        "from google.colab import files\n",
        "files.download(\"/content/smogmd.zip\")\n",
        "files.download(\"/content/smog1FMK.zip\")"
      ],
      "execution_count": null,
      "outputs": []
    },
    {
      "cell_type": "markdown",
      "metadata": {
        "id": "lng_hWGmfPfS"
      },
      "source": [
        "**HOMEWORK📚:** Once you got here, you can perform a few exercises!\n",
        "\n",
        "1.\tRun a few simulations at different temperatures below and above the one we used in this tutorial. What do you expect if you lower/increase the temperature of the simulation?\n",
        "2.\tRun longer simulations. The analysis of protein folding requires several transitions between the native and unfolded states and any intermediate state that can be present en-route of protein folding."
      ]
    },
    {
      "cell_type": "markdown",
      "metadata": {
        "id": "72Z0B-ndgDGz"
      },
      "source": [
        "#Appendix – Determining the folding landscape of your protein"
      ]
    },
    {
      "cell_type": "markdown",
      "metadata": {
        "id": "6nsPb6yIgDG2"
      },
      "source": [
        "Typically, sufficient sampling is achieved through the execution of several long MD simulations using these SBM models at different temperatures above and below the folding temperature of the protein of interest.\n",
        "\n",
        "Once this is achieved, the free energy barrier that separates the unfolded and folded states of your protein (as well as the presence of any intermediates) as a function of the native contacts (or any other reaction coordinate) can be determined using the **Weighted Histograms Analysis Method (WHAM)**. Briefly, this method consists in describing the density of the states of the system as a function of the energy and an appropriate reaction coordinate (such as the number of native contacts), through an approximation of histograms weighted by $k_BT$, where $k_B$ corresponds to the **Boltzmann constant**."
      ]
    },
    {
      "cell_type": "markdown",
      "metadata": {
        "id": "GAteg8X4igmX"
      },
      "source": [
        "1. We first need to generate files containing the change in potential energy and in the number of native contacts (Q) along the trajectory in the first and second columns, respectively. For this, we can use the `paste` and `awk` commands of `bash`"
      ]
    },
    {
      "cell_type": "code",
      "metadata": {
        "id": "prM3f-02jDgs"
      },
      "source": [
        "!paste energy.xvg qvals.out | awk '{print $2, $3}' > hist.152"
      ],
      "execution_count": null,
      "outputs": []
    },
    {
      "cell_type": "markdown",
      "metadata": {
        "id": "EIPp0F79jNx5"
      },
      "source": [
        "2. We perform the same operation for all other temperatures, making sure to change the filename according to the temperature being use (the example above is named hist.152 as it corresponds to T = 152), and we save all of the generated files into a single folder (e.g. analysis). An example folder can be downloaded from GitHub:"
      ]
    },
    {
      "cell_type": "code",
      "metadata": {
        "id": "wJM-TxJceubn"
      },
      "source": [
        "#Going back to the main folder\n",
        "import os\n",
        "os.chdir(\"/content/\")\n",
        "!wget https://github.com/pb3lab/ibm3202/raw/master/files/WHAMexample.tar.gz\n",
        "!tar zxf WHAMexample.tar.gz"
      ],
      "execution_count": null,
      "outputs": []
    },
    {
      "cell_type": "markdown",
      "metadata": {
        "id": "nzFhfzMddVgs"
      },
      "source": [
        "3. We also download a **WHAM.jar** java application to perform the WHAM analysis through the use of a configuration file, also included in the previously downloaded folder"
      ]
    },
    {
      "cell_type": "code",
      "metadata": {
        "id": "lhGs3w3uflQn"
      },
      "source": [
        "os.chdir(\"/content/WHAMexample\")\n",
        "!wget https://raw.githubusercontent.com/pb3lab/ibm3202/master/software/WHAM.jar"
      ],
      "execution_count": null,
      "outputs": []
    },
    {
      "cell_type": "markdown",
      "metadata": {
        "id": "Jvf38qrvfl9l"
      },
      "source": [
        "The config file (**please review it**) contains the information about the temperature range for which the heat capacity and the free energy will be calculated and the binning or spacing of the reaction coordinates (WHAM is a histogram analysis, hence the use of energy and Q bins). Also, at the end of the configuration file, the number of files to be analyzed and the filenames to be read with their corresponding temperatures must be indicated in the format:\n",
        "\n",
        "```\n",
        "# Example\n",
        "numfiles X #here, the number of files must be indicated\n",
        "name hist.152 temp 152\n",
        "```\n",
        "\n",
        "4. Once you have modified this script by adding the number, names and corresponding temperatures of the data that you will analyze, you can run WHAM by executing the following command:\n"
      ]
    },
    {
      "cell_type": "code",
      "metadata": {
        "id": "cNJkNR9GhWot"
      },
      "source": [
        "!java -jar WHAM.jar --config config"
      ],
      "execution_count": null,
      "outputs": []
    },
    {
      "cell_type": "markdown",
      "metadata": {
        "id": "a6zGGwg1flxX"
      },
      "source": [
        "5. If everything goes well, you should obtain a file called **cv**, which corresponds to the heat capacity change during the unfolding process, and a series of **freeXXXX** files that are the free energies as a function of the number of native contacts calculated at different temperatures (T = XXX.X). Let's plot these results!"
      ]
    },
    {
      "cell_type": "code",
      "metadata": {
        "id": "3iS2cb03htcn"
      },
      "source": [
        "import matplotlib.pyplot as plt\n",
        "import numpy as np\n",
        "\n",
        "data = np.loadtxt('cv')\n",
        "\n",
        "plt.title('Heat capacity')\n",
        "plt.xlabel('Temperature (reduced units)')\n",
        "plt.ylabel('C$_V$')\n",
        "plt.xlim(144, 160)\n",
        "plt.plot(data[:,0], data[:,1], linestyle='solid', linewidth='2', color='red')\n",
        "plt.show()"
      ],
      "execution_count": null,
      "outputs": []
    },
    {
      "cell_type": "code",
      "metadata": {
        "id": "wRoWIna5ik63"
      },
      "source": [
        "import matplotlib.pyplot as plt\n",
        "import numpy as np\n",
        "\n",
        "data = np.loadtxt('free1505')\n",
        "\n",
        "plt.title('Free energy landscape')\n",
        "plt.xlabel('Q')\n",
        "plt.ylabel('F(Q) [$k_BT$]')\n",
        "plt.xlim(0, 182)\n",
        "plt.ylim(0, 9)\n",
        "plt.plot(data[:,0], data[:,1], linestyle='solid', linewidth='2', color='red')\n",
        "plt.show()"
      ],
      "execution_count": null,
      "outputs": []
    },
    {
      "cell_type": "markdown",
      "metadata": {
        "id": "cvPaNSV_j09o"
      },
      "source": [
        "If we were to analyze the simulations generated in this tutorial, the number of transitions observed would be too small and the convergence of these data would be questionable. However, the repetition of these simulations for longer times and the collection of data at various temperatures between $0.9 > T_{F} > 1.1$, where $T_{F}$ is the folding temperature (~151), would generate results such as the ones presented above."
      ]
    }
  ]
}